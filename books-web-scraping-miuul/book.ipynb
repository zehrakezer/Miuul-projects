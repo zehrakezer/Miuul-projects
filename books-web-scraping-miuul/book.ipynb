{
 "cells": [
  {
   "cell_type": "markdown",
   "metadata": {},
   "source": [
    "### A company that sells books online finds that it has low sales in the “Travel” and “Non-Fiction” categories. For this reason, the company needs to obtain information about books in the \"Travel\" and \"Nonfiction\" categories from the competitor's website https://books.toscrape.com/, which is allowed to be scraped, and conduct competitor and price analysis. The company expects you to receive the information on the detail page of each book in these categories."
   ]
  },
  {
   "cell_type": "markdown",
   "metadata": {},
   "source": [
    "import libraries"
   ]
  },
  {
   "cell_type": "code",
   "execution_count": 36,
   "metadata": {},
   "outputs": [],
   "source": [
    "from selenium import webdriver\n",
    "from selenium.webdriver.common.by import By\n",
    "from bs4 import BeautifulSoup\n",
    "\n",
    "import pandas as pd\n",
    "import time\n",
    "import re"
   ]
  },
  {
   "cell_type": "markdown",
   "metadata": {},
   "source": [
    "### Task 1: Configuring and Launching the Scanner"
   ]
  },
  {
   "cell_type": "code",
   "execution_count": 2,
   "metadata": {},
   "outputs": [],
   "source": [
    "#1. Define a ChromeOptions named options using Selenium's Webdriver class.\n",
    "options= webdriver.ChromeOptions()\n",
    "\n",
    "# 2. Add full screen feature to the options you defined.\n",
    "options.add_argument(\"start-maximized\")"
   ]
  },
  {
   "cell_type": "code",
   "execution_count": 3,
   "metadata": {},
   "outputs": [],
   "source": [
    "#3. Create a Chrome browser named driver using the options you prepared in the previous steps.\n",
    "driver = webdriver.Chrome(options=options)\n",
    "sleep_time= 2"
   ]
  },
  {
   "cell_type": "markdown",
   "metadata": {},
   "source": [
    "### Task 2: Examining and Scraping the Home Page"
   ]
  },
  {
   "cell_type": "code",
   "execution_count": 4,
   "metadata": {},
   "outputs": [],
   "source": [
    "# 1. Open the Home Page with the driver and examine it.\n",
    "driver.get(\"https://books.toscrape.com/\")\n",
    "time.sleep(sleep_time)"
   ]
  },
  {
   "cell_type": "code",
   "execution_count": 5,
   "metadata": {},
   "outputs": [],
   "source": [
    "# 2. Write an XPath query that finds the elements holding the links of the \"Travel\" and \"Nonfiction\" category pages all at once.\n",
    "category_element_xpath = \"//a[contains(text(),'Travel') or contains(text(),'Nonfiction')]\""
   ]
  },
  {
   "cell_type": "code",
   "execution_count": 6,
   "metadata": {},
   "outputs": [],
   "source": [
    "# 3. Find the elements you captured with the XPath query using the driver and scrape the category detail links.\n",
    "category_elements= driver.find_elements(By.XPATH,category_element_xpath)"
   ]
  },
  {
   "cell_type": "code",
   "execution_count": 7,
   "metadata": {},
   "outputs": [
    {
     "data": {
      "text/plain": [
       "['https://books.toscrape.com/catalogue/category/books/travel_2/index.html',\n",
       " 'https://books.toscrape.com/catalogue/category/books/nonfiction_13/index.html']"
      ]
     },
     "execution_count": 7,
     "metadata": {},
     "output_type": "execute_result"
    }
   ],
   "source": [
    "category_urls = [element.get_attribute(\"href\") for element in category_elements]\n",
    "category_urls"
   ]
  },
  {
   "cell_type": "markdown",
   "metadata": {},
   "source": [
    "### TASK 3: Inspecting and Scraping the Category Page"
   ]
  },
  {
   "cell_type": "code",
   "execution_count": 8,
   "metadata": {},
   "outputs": [],
   "source": [
    "# 1. Go to any detail page and write the XPath query that captures the elements that hold the detail links of the books on that page.\n",
    "driver.get(category_urls[0])\n",
    "time.sleep(sleep_time)"
   ]
  },
  {
   "cell_type": "code",
   "execution_count": 9,
   "metadata": {},
   "outputs": [],
   "source": [
    "book_elements_xpath= \"//div[@class='image_container']//a\""
   ]
  },
  {
   "cell_type": "code",
   "execution_count": 10,
   "metadata": {},
   "outputs": [
    {
     "name": "stdout",
     "output_type": "stream",
     "text": [
      "['https://books.toscrape.com/catalogue/its-only-the-himalayas_981/index.html', 'https://books.toscrape.com/catalogue/full-moon-over-noahs-ark-an-odyssey-to-mount-ararat-and-beyond_811/index.html', 'https://books.toscrape.com/catalogue/see-america-a-celebration-of-our-national-parks-treasured-sites_732/index.html', 'https://books.toscrape.com/catalogue/vagabonding-an-uncommon-guide-to-the-art-of-long-term-world-travel_552/index.html', 'https://books.toscrape.com/catalogue/under-the-tuscan-sun_504/index.html', 'https://books.toscrape.com/catalogue/a-summer-in-europe_458/index.html', 'https://books.toscrape.com/catalogue/the-great-railway-bazaar_446/index.html', 'https://books.toscrape.com/catalogue/a-year-in-provence-provence-1_421/index.html', 'https://books.toscrape.com/catalogue/the-road-to-little-dribbling-adventures-of-an-american-in-britain-notes-from-a-small-island-2_277/index.html', 'https://books.toscrape.com/catalogue/neither-here-nor-there-travels-in-europe_198/index.html', 'https://books.toscrape.com/catalogue/1000-places-to-see-before-you-die_1/index.html']\n",
      "11\n"
     ]
    }
   ],
   "source": [
    "# Capture the elements using the XPath query with the 2nd driver and extract their detail links.\n",
    "book_elements = driver.find_elements(By.XPATH, book_elements_xpath)\n",
    "book_urls = [element.get_attribute(\"href\") for element in book_elements]\n",
    "print(book_urls)\n",
    "print(len(book_urls))"
   ]
  },
  {
   "cell_type": "code",
   "execution_count": 12,
   "metadata": {},
   "outputs": [
    {
     "name": "stdout",
     "output_type": "stream",
     "text": [
      "['https://books.toscrape.com/catalogue/worlds-elsewhere-journeys-around-shakespeares-globe_972/index.html', 'https://books.toscrape.com/catalogue/the-five-love-languages-how-to-express-heartfelt-commitment-to-your-mate_969/index.html', 'https://books.toscrape.com/catalogue/reasons-to-stay-alive_959/index.html', 'https://books.toscrape.com/catalogue/higherselfie-wake-up-your-life-free-your-soul-find-your-tribe_957/index.html', 'https://books.toscrape.com/catalogue/unseen-city-the-majesty-of-pigeons-the-discreet-charm-of-snails-other-wonders-of-the-urban-wilderness_952/index.html', 'https://books.toscrape.com/catalogue/throwing-rocks-at-the-google-bus-how-growth-became-the-enemy-of-prosperity_948/index.html', 'https://books.toscrape.com/catalogue/the-life-changing-magic-of-tidying-up-the-japanese-art-of-decluttering-and-organizing_936/index.html', 'https://books.toscrape.com/catalogue/the-gutsy-girl-escapades-for-your-life-of-epic-adventure_934/index.html', 'https://books.toscrape.com/catalogue/the-electric-pencil-drawings-from-inside-state-hospital-no-3_933/index.html', 'https://books.toscrape.com/catalogue/spark-joy-an-illustrated-master-class-on-the-art-of-organizing-and-tidying-up_927/index.html', 'https://books.toscrape.com/catalogue/reskilling-america-learning-to-labor-in-the-twenty-first-century_922/index.html', 'https://books.toscrape.com/catalogue/in-the-country-we-love-my-family-divided_901/index.html', 'https://books.toscrape.com/catalogue/everydata-the-misinformation-hidden-in-the-little-data-you-consume-every-day_891/index.html', 'https://books.toscrape.com/catalogue/call-the-nurse-true-stories-of-a-country-nurse-on-a-scottish-isle_885/index.html', 'https://books.toscrape.com/catalogue/algorithms-to-live-by-the-computer-science-of-human-decisions_880/index.html', 'https://books.toscrape.com/catalogue/the-power-of-now-a-guide-to-spiritual-enlightenment_855/index.html', 'https://books.toscrape.com/catalogue/the-omnivores-dilemma-a-natural-history-of-four-meals_854/index.html', 'https://books.toscrape.com/catalogue/the-genius-of-birds_843/index.html', 'https://books.toscrape.com/catalogue/the-artists-way-a-spiritual-path-to-higher-creativity_839/index.html', 'https://books.toscrape.com/catalogue/so-youve-been-publicly-shamed_832/index.html', 'https://books.toscrape.com/catalogue/daring-greatly-how-the-courage-to-be-vulnerable-transforms-the-way-we-live-love-parent-and-lead_799/index.html', 'https://books.toscrape.com/catalogue/big-magic-creative-living-beyond-fear_796/index.html', 'https://books.toscrape.com/catalogue/becoming-wise-an-inquiry-into-the-mystery-and-art-of-living_795/index.html', 'https://books.toscrape.com/catalogue/agnostic-a-spirited-manifesto_786/index.html', 'https://books.toscrape.com/catalogue/whole-lotta-creativity-going-on-60-fun-and-unusual-exercises-to-awaken-and-strengthen-your-creativity_780/index.html', 'https://books.toscrape.com/catalogue/whats-it-like-in-space-stories-from-astronauts-whove-been-there_779/index.html', 'https://books.toscrape.com/catalogue/the-year-of-magical-thinking_770/index.html', 'https://books.toscrape.com/catalogue/the-literature-book-big-ideas-simply-explained_755/index.html', 'https://books.toscrape.com/catalogue/the-bad-ass-librarians-of-timbuktu-and-their-race-to-save-the-worlds-most-precious-manuscripts_745/index.html', 'https://books.toscrape.com/catalogue/swell-a-year-of-waves_740/index.html', 'https://books.toscrape.com/catalogue/no-dream-is-too-high-life-lessons-from-a-man-who-walked-on-the-moon_722/index.html', 'https://books.toscrape.com/catalogue/looking-for-lovely-collecting-the-moments-that-matter_710/index.html', 'https://books.toscrape.com/catalogue/let-it-out-a-journey-through-journaling_708/index.html', 'https://books.toscrape.com/catalogue/hamilton-the-revolution_699/index.html', 'https://books.toscrape.com/catalogue/far-away-places-on-the-brink-of-change-seven-continents-twenty-five-years_694/index.html', 'https://books.toscrape.com/catalogue/eaternity-more-than-150-deliciously-easy-vegan-recipes-for-a-long-healthy-satisfied-joyful-life_689/index.html', 'https://books.toscrape.com/catalogue/buying-in-the-secret-dialogue-between-what-we-buy-and-who-we-are_670/index.html', 'https://books.toscrape.com/catalogue/brain-on-fire-my-month-of-madness_669/index.html', 'https://books.toscrape.com/catalogue/abstract-city_658/index.html', 'https://books.toscrape.com/catalogue/13-hours-the-inside-account-of-what-really-happened-in-benghazi_645/index.html']\n",
      "40\n"
     ]
    }
   ],
   "source": [
    "# 3. For pagination, manipulate the page link instead of clicking on the buttons.\n",
    "\n",
    "max_pagination = 3\n",
    "url = category_urls[1]\n",
    "book_urls= []\n",
    "for i in range(1,max_pagination):\n",
    "    update_url = url if i==1 else url.replace(\"index\", f\"page-{i}\")\n",
    "    driver.get(update_url)\n",
    "    book_elements = driver.find_elements(By.XPATH, book_elements_xpath)\n",
    "\n",
    "    temp_urls = [element.get_attribute(\"href\") for element in book_elements]\n",
    "    book_urls.extend(temp_urls)\n",
    "\n",
    "print(book_urls)\n",
    "print(len(book_urls))"
   ]
  },
  {
   "cell_type": "code",
   "execution_count": 13,
   "metadata": {},
   "outputs": [
    {
     "name": "stdout",
     "output_type": "stream",
     "text": [
      "['https://books.toscrape.com/catalogue/worlds-elsewhere-journeys-around-shakespeares-globe_972/index.html', 'https://books.toscrape.com/catalogue/the-five-love-languages-how-to-express-heartfelt-commitment-to-your-mate_969/index.html', 'https://books.toscrape.com/catalogue/reasons-to-stay-alive_959/index.html', 'https://books.toscrape.com/catalogue/higherselfie-wake-up-your-life-free-your-soul-find-your-tribe_957/index.html', 'https://books.toscrape.com/catalogue/unseen-city-the-majesty-of-pigeons-the-discreet-charm-of-snails-other-wonders-of-the-urban-wilderness_952/index.html', 'https://books.toscrape.com/catalogue/throwing-rocks-at-the-google-bus-how-growth-became-the-enemy-of-prosperity_948/index.html', 'https://books.toscrape.com/catalogue/the-life-changing-magic-of-tidying-up-the-japanese-art-of-decluttering-and-organizing_936/index.html', 'https://books.toscrape.com/catalogue/the-gutsy-girl-escapades-for-your-life-of-epic-adventure_934/index.html', 'https://books.toscrape.com/catalogue/the-electric-pencil-drawings-from-inside-state-hospital-no-3_933/index.html', 'https://books.toscrape.com/catalogue/spark-joy-an-illustrated-master-class-on-the-art-of-organizing-and-tidying-up_927/index.html', 'https://books.toscrape.com/catalogue/reskilling-america-learning-to-labor-in-the-twenty-first-century_922/index.html', 'https://books.toscrape.com/catalogue/in-the-country-we-love-my-family-divided_901/index.html', 'https://books.toscrape.com/catalogue/everydata-the-misinformation-hidden-in-the-little-data-you-consume-every-day_891/index.html', 'https://books.toscrape.com/catalogue/call-the-nurse-true-stories-of-a-country-nurse-on-a-scottish-isle_885/index.html', 'https://books.toscrape.com/catalogue/algorithms-to-live-by-the-computer-science-of-human-decisions_880/index.html', 'https://books.toscrape.com/catalogue/the-power-of-now-a-guide-to-spiritual-enlightenment_855/index.html', 'https://books.toscrape.com/catalogue/the-omnivores-dilemma-a-natural-history-of-four-meals_854/index.html', 'https://books.toscrape.com/catalogue/the-genius-of-birds_843/index.html', 'https://books.toscrape.com/catalogue/the-artists-way-a-spiritual-path-to-higher-creativity_839/index.html', 'https://books.toscrape.com/catalogue/so-youve-been-publicly-shamed_832/index.html', 'https://books.toscrape.com/catalogue/daring-greatly-how-the-courage-to-be-vulnerable-transforms-the-way-we-live-love-parent-and-lead_799/index.html', 'https://books.toscrape.com/catalogue/big-magic-creative-living-beyond-fear_796/index.html', 'https://books.toscrape.com/catalogue/becoming-wise-an-inquiry-into-the-mystery-and-art-of-living_795/index.html', 'https://books.toscrape.com/catalogue/agnostic-a-spirited-manifesto_786/index.html', 'https://books.toscrape.com/catalogue/whole-lotta-creativity-going-on-60-fun-and-unusual-exercises-to-awaken-and-strengthen-your-creativity_780/index.html', 'https://books.toscrape.com/catalogue/whats-it-like-in-space-stories-from-astronauts-whove-been-there_779/index.html', 'https://books.toscrape.com/catalogue/the-year-of-magical-thinking_770/index.html', 'https://books.toscrape.com/catalogue/the-literature-book-big-ideas-simply-explained_755/index.html', 'https://books.toscrape.com/catalogue/the-bad-ass-librarians-of-timbuktu-and-their-race-to-save-the-worlds-most-precious-manuscripts_745/index.html', 'https://books.toscrape.com/catalogue/swell-a-year-of-waves_740/index.html', 'https://books.toscrape.com/catalogue/no-dream-is-too-high-life-lessons-from-a-man-who-walked-on-the-moon_722/index.html', 'https://books.toscrape.com/catalogue/looking-for-lovely-collecting-the-moments-that-matter_710/index.html', 'https://books.toscrape.com/catalogue/let-it-out-a-journey-through-journaling_708/index.html', 'https://books.toscrape.com/catalogue/hamilton-the-revolution_699/index.html', 'https://books.toscrape.com/catalogue/far-away-places-on-the-brink-of-change-seven-continents-twenty-five-years_694/index.html', 'https://books.toscrape.com/catalogue/eaternity-more-than-150-deliciously-easy-vegan-recipes-for-a-long-healthy-satisfied-joyful-life_689/index.html', 'https://books.toscrape.com/catalogue/buying-in-the-secret-dialogue-between-what-we-buy-and-who-we-are_670/index.html', 'https://books.toscrape.com/catalogue/brain-on-fire-my-month-of-madness_669/index.html', 'https://books.toscrape.com/catalogue/abstract-city_658/index.html', 'https://books.toscrape.com/catalogue/13-hours-the-inside-account-of-what-really-happened-in-benghazi_645/index.html', 'https://books.toscrape.com/catalogue/the-lonely-city-adventures-in-the-art-of-being-alone_639/index.html', 'https://books.toscrape.com/catalogue/the-diary-of-a-young-girl_634/index.html', 'https://books.toscrape.com/catalogue/snatched-how-a-drug-queen-went-undercover-for-the-dea-and-was-kidnapped-by-colombian-guerillas_631/index.html', 'https://books.toscrape.com/catalogue/furiously-happy-a-funny-book-about-horrible-things_619/index.html', 'https://books.toscrape.com/catalogue/the-sleep-revolution-transforming-your-life-one-night-at-a-time_608/index.html', 'https://books.toscrape.com/catalogue/mother-can-you-not_599/index.html', 'https://books.toscrape.com/catalogue/a-mothers-reckoning-living-in-the-aftermath-of-tragedy_585/index.html', 'https://books.toscrape.com/catalogue/10-happier-how-i-tamed-the-voice-in-my-head-reduced-stress-without-losing-my-edge-and-found-self-help-that-actually-works_582/index.html', 'https://books.toscrape.com/catalogue/chernobyl-012340-the-incredible-true-story-of-the-worlds-worst-nuclear-disaster_560/index.html', 'https://books.toscrape.com/catalogue/zero-to-one-notes-on-startups-or-how-to-build-the-future_555/index.html', 'https://books.toscrape.com/catalogue/why-not-me_554/index.html', 'https://books.toscrape.com/catalogue/when-breath-becomes-air_553/index.html', 'https://books.toscrape.com/catalogue/the-midnight-assassin-panic-scandal-and-the-hunt-for-americas-first-serial-killer_549/index.html', 'https://books.toscrape.com/catalogue/smarter-faster-better-the-secrets-of-being-productive-in-life-and-business_543/index.html', 'https://books.toscrape.com/catalogue/rising-strong_539/index.html', 'https://books.toscrape.com/catalogue/mans-search-for-meaning_533/index.html', 'https://books.toscrape.com/catalogue/love-that-boy-what-two-presidents-eight-road-trips-and-my-son-taught-me-about-a-parents-expectations_532/index.html', 'https://books.toscrape.com/catalogue/living-forward-a-proven-plan-to-stop-drifting-and-get-the-life-you-want_531/index.html', 'https://books.toscrape.com/catalogue/i-will-find-you_524/index.html', 'https://books.toscrape.com/catalogue/brazen-the-courage-to-find-the-you-thats-been-hiding_514/index.html', 'https://books.toscrape.com/catalogue/between-the-world-and-me_513/index.html', 'https://books.toscrape.com/catalogue/being-mortal-medicine-and-what-matters-in-the-end_512/index.html', 'https://books.toscrape.com/catalogue/a-murder-over-a-girl-justice-gender-junior-high_511/index.html', 'https://books.toscrape.com/catalogue/for-the-love-fighting-for-grace-in-a-world-of-impossible-standards_467/index.html', 'https://books.toscrape.com/catalogue/finding-god-in-the-ruins-how-god-redeems-pain_466/index.html', 'https://books.toscrape.com/catalogue/the-man-who-mistook-his-wife-for-a-hat-and-other-clinical-tales_451/index.html', 'https://books.toscrape.com/catalogue/in-cold-blood_432/index.html', 'https://books.toscrape.com/catalogue/girl-interrupted_429/index.html', 'https://books.toscrape.com/catalogue/why-save-the-bankers-and-other-essays-on-our-economic-and-political-crisis_418/index.html', 'https://books.toscrape.com/catalogue/talking-to-girls-about-duran-duran-one-young-mans-quest-for-true-love-and-a-cooler-haircut_394/index.html', 'https://books.toscrape.com/catalogue/my-mother-was-nuts_388/index.html', 'https://books.toscrape.com/catalogue/data-a-love-story-how-i-gamed-online-dating-to-meet-my-match_367/index.html', 'https://books.toscrape.com/catalogue/the-jazz-of-physics-the-secret-link-between-music-and-the-structure-of-the-universe_350/index.html', 'https://books.toscrape.com/catalogue/the-gunning-of-america-business-and-the-making-of-american-gun-culture_347/index.html', 'https://books.toscrape.com/catalogue/the-geography-of-bliss-one-grumps-search-for-the-happiest-places-in-the-world_346/index.html', 'https://books.toscrape.com/catalogue/god-is-not-great-how-religion-poisons-everything_323/index.html', 'https://books.toscrape.com/catalogue/we-the-people-the-modern-day-figures-who-have-reshaped-and-affirmed-the-founding-fathers-vision-of-america_302/index.html', 'https://books.toscrape.com/catalogue/very-good-lives-the-fringe-benefits-of-failure-and-the-importance-of-imagination_298/index.html', 'https://books.toscrape.com/catalogue/unstuffed-decluttering-your-home-mind-and-soul_296/index.html', 'https://books.toscrape.com/catalogue/under-the-banner-of-heaven-a-story-of-violent-faith_295/index.html', 'https://books.toscrape.com/catalogue/trespassing-across-america-one-mans-epic-never-done-before-and-sort-of-illegal-hike-across-the-heartland_291/index.html', 'https://books.toscrape.com/catalogue/the-name-of-god-is-mercy_264/index.html', 'https://books.toscrape.com/catalogue/stiff-the-curious-lives-of-human-cadavers_226/index.html', 'https://books.toscrape.com/catalogue/spilled-milk-based-on-a-true-story_225/index.html', 'https://books.toscrape.com/catalogue/rise-of-the-rocket-girls-the-women-who-propelled-us-from-missiles-to-the-moon-to-mars_213/index.html', 'https://books.toscrape.com/catalogue/outliers-the-story-of-success_204/index.html', 'https://books.toscrape.com/catalogue/notes-from-a-small-island-notes-from-a-small-island-1_200/index.html', 'https://books.toscrape.com/catalogue/night-the-night-trilogy-1_199/index.html', 'https://books.toscrape.com/catalogue/miracles-from-heaven-a-little-girl-her-journey-to-heaven-and-her-amazing-story-of-healing_195/index.html', 'https://books.toscrape.com/catalogue/letter-to-a-christian-nation_186/index.html', 'https://books.toscrape.com/catalogue/lets-pretend-this-never-happened-a-mostly-true-memoir_185/index.html', 'https://books.toscrape.com/catalogue/its-never-too-late-to-begin-again-discovering-creativity-and-meaning-at-midlife-and-beyond_179/index.html', 'https://books.toscrape.com/catalogue/into-the-wild_177/index.html', 'https://books.toscrape.com/catalogue/in-the-garden-of-beasts-love-terror-and-an-american-family-in-hitlers-berlin_175/index.html', 'https://books.toscrape.com/catalogue/i-am-malala-the-girl-who-stood-up-for-education-and-was-shot-by-the-taliban_172/index.html', 'https://books.toscrape.com/catalogue/gratitude_163/index.html', 'https://books.toscrape.com/catalogue/disrupted-my-misadventure-in-the-start-up-bubble_148/index.html', 'https://books.toscrape.com/catalogue/brave-enough_135/index.html', 'https://books.toscrape.com/catalogue/born-to-run-a-hidden-tribe-superathletes-and-the-greatest-race-the-world-has-never-seen_133/index.html', 'https://books.toscrape.com/catalogue/blink-the-power-of-thinking-without-thinking_132/index.html', 'https://books.toscrape.com/catalogue/black-flags-the-rise-of-isis_131/index.html', 'https://books.toscrape.com/catalogue/are-we-smart-enough-to-know-how-smart-animals-are_121/index.html', 'https://books.toscrape.com/catalogue/a-walk-in-the-woods-rediscovering-america-on-the-appalachian-trail_118/index.html', 'https://books.toscrape.com/catalogue/the-suffragettes-little-black-classics-96_112/index.html', 'https://books.toscrape.com/catalogue/kindle-paperwhite-users-guide_103/index.html', 'https://books.toscrape.com/catalogue/h-is-for-hawk_102/index.html', 'https://books.toscrape.com/catalogue/travels-with-charley-in-search-of-america_90/index.html', 'https://books.toscrape.com/catalogue/the-tumor_85/index.html', 'https://books.toscrape.com/catalogue/the-end-of-the-jesus-era-an-investigation-1_64/index.html', 'https://books.toscrape.com/catalogue/eat-pray-love_16/index.html']\n",
      "110\n"
     ]
    }
   ],
   "source": [
    "# 4. Use control to avoid entering an infinite loop in pagination as a result of the analysis in the previous step.\n",
    "max_pagination = 10\n",
    "url = category_urls[1]\n",
    "book_urls= []\n",
    "for i in range(1,max_pagination):\n",
    "    update_url = url if i==1 else url.replace(\"index\", f\"page-{i}\")\n",
    "    driver.get(update_url)\n",
    "    book_elements = driver.find_elements(By.XPATH, book_elements_xpath)\n",
    "    if not book_elements:\n",
    "        break\n",
    "\n",
    "    temp_urls = [element.get_attribute(\"href\") for element in book_elements]\n",
    "    book_urls.extend(temp_urls)\n",
    "\n",
    "print(book_urls)\n",
    "print(len(book_urls))"
   ]
  },
  {
   "cell_type": "markdown",
   "metadata": {},
   "source": [
    "### TASK 4: Scraping the Product Detail Page"
   ]
  },
  {
   "cell_type": "code",
   "execution_count": 14,
   "metadata": {},
   "outputs": [],
   "source": [
    "# 1. Go to the detail page of any product and capture the div element whose class attribute is content.\n",
    "driver.get(book_urls[0])\n",
    "time.sleep(sleep_time)\n",
    "content_div = driver.find_elements(By.XPATH,\"//div[@class='content']\")"
   ]
  },
  {
   "cell_type": "code",
   "execution_count": 15,
   "metadata": {},
   "outputs": [],
   "source": [
    "# 2. Take the HTML of the div you captured and assign it to the variable named inner_html.\n",
    "inner_html = content_div[0].get_attribute(\"innerHTML\")"
   ]
  },
  {
   "cell_type": "code",
   "execution_count": 16,
   "metadata": {},
   "outputs": [],
   "source": [
    "# 3. Create the soup object with inner_html.\n",
    "soup = BeautifulSoup(inner_html,\"html.parser\")"
   ]
  },
  {
   "cell_type": "code",
   "execution_count": 26,
   "metadata": {},
   "outputs": [
    {
     "data": {
      "text/plain": [
       "'Worlds Elsewhere: Journeys Around Shakespeare’s Globe'"
      ]
     },
     "execution_count": 26,
     "metadata": {},
     "output_type": "execute_result"
    }
   ],
   "source": [
    "#4. Engrave the following information with the soup object you created:\n",
    "# - Book Name\n",
    "name_elem = soup.find(\"h1\")\n",
    "book_name = name_elem.text\n",
    "book_name"
   ]
  },
  {
   "cell_type": "code",
   "execution_count": 27,
   "metadata": {},
   "outputs": [
    {
     "data": {
      "text/plain": [
       "'£40.30'"
      ]
     },
     "execution_count": 27,
     "metadata": {},
     "output_type": "execute_result"
    }
   ],
   "source": [
    "# - Book Price\n",
    "price_elem = soup.find(\"p\",attrs={\"class\":\"price_color\"})\n",
    "book_price =price_elem.text\n",
    "book_price"
   ]
  },
  {
   "cell_type": "code",
   "execution_count": 30,
   "metadata": {},
   "outputs": [
    {
     "name": "stdout",
     "output_type": "stream",
     "text": [
      "<p class=\"star-rating Five\">\n",
      "<i class=\"icon-star\"></i>\n",
      "<i class=\"icon-star\"></i>\n",
      "<i class=\"icon-star\"></i>\n",
      "<i class=\"icon-star\"></i>\n",
      "<i class=\"icon-star\"></i>\n",
      "<!-- <small><a href=\"/catalogue/worlds-elsewhere-journeys-around-shakespeares-globe_972/reviews/\">\n",
      "        \n",
      "                \n",
      "                    0 customer reviews\n",
      "                \n",
      "        </a></small>\n",
      "         --> \n",
      "\n",
      "\n",
      "<!-- \n",
      "    <a id=\"write_review\" href=\"/catalogue/worlds-elsewhere-journeys-around-shakespeares-globe_972/reviews/add/#addreview\" class=\"btn btn-success btn-sm\">\n",
      "        Write a review\n",
      "    </a>\n",
      "\n",
      " --></p>\n"
     ]
    },
    {
     "data": {
      "text/plain": [
       "'Five'"
      ]
     },
     "execution_count": 30,
     "metadata": {},
     "output_type": "execute_result"
    }
   ],
   "source": [
    "# - Number of Book Stars,\n",
    "# Hint: (regex = re.compile('^star-rating '))\n",
    "regex = re.compile('^star-rating ')\n",
    "star_elem = soup.find(\"p\",attrs={\"class\":regex})\n",
    "print(star_elem)\n",
    "book_star_count= star_elem[\"class\"][-1]\n",
    "book_star_count"
   ]
  },
  {
   "cell_type": "code",
   "execution_count": 31,
   "metadata": {},
   "outputs": [
    {
     "data": {
      "text/plain": [
       "'Anti-apartheid activist, Bollywood screenwriter, Nazi pin-up, hero of the Wild West: this is Shakespeare as you have never seen him before.From the sixteenth-century Baltic to the American Revolution, from colonial India to the skyscrapers of modern-day Shanghai, Shakespeare’s plays appear at the most fascinating of times and in the most unexpected of places. No other writ Anti-apartheid activist, Bollywood screenwriter, Nazi pin-up, hero of the Wild West: this is Shakespeare as you have never seen him before.From the sixteenth-century Baltic to the American Revolution, from colonial India to the skyscrapers of modern-day Shanghai, Shakespeare’s plays appear at the most fascinating of times and in the most unexpected of places. No other writer’s work has been performed, translated, adapted and altered in such a remarkable variety of cultures and languages. But what is it about William Shakespeare – a man from Warwickshire who never once set foot outside England – that has made him at home in so many places around the globe?Travelling across four continents, six countries and 400 years, Andrew Dickson takes us on a personal journey rich in insight and surprise. We enter the air-conditioned vault deep beneath Capitol Hill where the world’s largest collection of First Folios is stored; discover the shadowy history of Joseph Goebbels’s obsession with Shakespeare; and uncover the true story behind the scuffed edition in which Nelson Mandela and fellow Robben Island prisoners inscribed their names. Both cultural history and literary travelogue, Worlds Elsewhere is an attempt to understand how Shakespeare has become the international phenomenon he is – and why.\"There were very few pages on which I didn’t learn something new or revelatory. A must-read for anyone interested in Shakespeare’s impact on people and politics around the globe\" (James Shapiro, author of 1599: A Year in the Life of William Shakespeare)\"Immensely well-informed and highly readable. A revelatory journey of cultural exploration\" (Professor Stanley Wells, General Editor of the Oxford and Penguin Shakespeares)\"Brilliantly original. Absolutely engaging, witty and irresistible. What’s most remarkable: he’s said something new about Shakespeare\" (Michael Pye, author of The Edge of the World)\"A truly original book about Shakespeare: one that explores the dramatist\\'s global reach with tenacity, devotion and an exhilarating spirit of adventure\" (Michael Billington) ...more'"
      ]
     },
     "execution_count": 31,
     "metadata": {},
     "output_type": "execute_result"
    }
   ],
   "source": [
    "# - Book Description,\n",
    "desc_elem = soup.find(\"div\", attrs={\"id\":\"product_description\"}).find_next_sibling()\n",
    "book_desc = desc_elem.text\n",
    "book_desc\n",
    "\n"
   ]
  },
  {
   "cell_type": "code",
   "execution_count": 32,
   "metadata": {},
   "outputs": [
    {
     "data": {
      "text/plain": [
       "{'UPC': '4c28def39d850cdf',\n",
       " 'Product Type': 'Books',\n",
       " 'Price (excl. tax)': '£40.30',\n",
       " 'Price (incl. tax)': '£40.30',\n",
       " 'Tax': '£0.00',\n",
       " 'Availability': 'In stock (18 available)',\n",
       " 'Number of reviews': '0'}"
      ]
     },
     "execution_count": 32,
     "metadata": {},
     "output_type": "execute_result"
    }
   ],
   "source": [
    "# - Information in the table under the Product Information Heading.\n",
    "product_information = {}\n",
    "table_rows = soup.find(\"table\").find_all(\"tr\")\n",
    "for row in table_rows:\n",
    "    key = row.find(\"th\").text\n",
    "    value = row.find(\"td\").text\n",
    "    product_information[key] = value\n",
    "\n",
    "product_information"
   ]
  },
  {
   "cell_type": "markdown",
   "metadata": {},
   "source": [
    "### TASK 5: Functionalization and Automating the Entire Process"
   ]
  },
  {
   "cell_type": "code",
   "execution_count": 33,
   "metadata": {},
   "outputs": [],
   "source": [
    "# 1. Functionalize processes. For example: def get_product_detail(driver): | def get_category_detail_urls(driver)\n",
    "\n",
    "\n",
    "def get_book_detail(driver,url):\n",
    "    \"\"\"gets book data from given book detail page url\"\"\"\n",
    "    driver.get(url)\n",
    "    time.sleep(sleep_time)\n",
    "    content_div = driver.find_elements(By.XPATH,\"//div[@class='content']\")\n",
    "\n",
    "    inner_html = content_div[0].get_attribute(\"innerHTML\")\n",
    "\n",
    "    soup = BeautifulSoup(inner_html,\"html.parser\")\n",
    "\n",
    "    name_elem = soup.find(\"h1\")\n",
    "    book_name = name_elem.text\n",
    "\n",
    "    price_elem = soup.find(\"p\",attrs={\"class\":\"price_color\"})\n",
    "    book_price =price_elem.text\n",
    "\n",
    "    regex = re.compile('^star-rating ')\n",
    "    star_elem = soup.find(\"p\",attrs={\"class\":regex})\n",
    "    book_star_count= star_elem[\"class\"][-1]\n",
    "\n",
    "    desc_elem = soup.find(\"div\", attrs={\"id\":\"product_description\"}).find_next_sibling()\n",
    "    book_desc = desc_elem.text\n",
    "\n",
    "    product_information = {}\n",
    "    table_rows = soup.find(\"table\").find_all(\"tr\")\n",
    "    for row in table_rows:\n",
    "        key = row.find(\"th\").text\n",
    "        value = row.find(\"td\").text\n",
    "        product_information[key] = value\n",
    "\n",
    "    return{'book_name':book_name, 'book_price':book_price,'book_star_count':book_star_count,'book_desc':book_desc,**product_information}\n",
    "\n",
    "\n",
    "\n",
    "def get_book_urls(driver,url):\n",
    "    \"\"\"\"gets book urls from given page url\"\"\"\n",
    "\n",
    "    max_pagination = 10\n",
    "\n",
    "    book_urls= []\n",
    "    book_elements_xpath = \"//div[@class='image_container']//a\"\n",
    "    for i in range(1,max_pagination):\n",
    "        update_url = url if i==1 else url.replace(\"index\", f\"page-{i}\")\n",
    "        driver.get(update_url)\n",
    "        book_elements = driver.find_elements(By.XPATH, book_elements_xpath)\n",
    "\n",
    "        #controller of pagination\n",
    "        if not book_elements:\n",
    "            break\n",
    "\n",
    "        temp_urls = [element.get_attribute(\"href\") for element in book_elements]\n",
    "        book_urls.extend(temp_urls)\n",
    "\n",
    "    return book_urls\n",
    "    \n",
    "\n",
    "def get_category_detail_urls(driver,url):\n",
    "    \"\"\"\"Gets category urls from given homepage url\"\"\"\n",
    "    driver.get(url)\n",
    "    time.sleep(sleep_time)\n",
    "\n",
    "    category_element_xpath = \"//a[contains(text(),'Travel') or contains(text(),'Nonfiction')]\"\n",
    "\n",
    "    category_elements= driver.find_elements(By.XPATH,category_element_xpath)\n",
    "\n",
    "    category_urls = [element.get_attribute(\"href\") for element in category_elements]\n",
    "\n",
    "    return category_urls\n",
    "\n",
    "def initialize_driver():\n",
    "    \"\"\"\"initializes driver with maximized options\"\"\"\n",
    "    options= webdriver.ChromeOptions()\n",
    "    options.add_argument(\"start-maximized\")\n",
    "    driver = webdriver.Chrome(options)\n",
    "    return driver"
   ]
  },
  {
   "cell_type": "code",
   "execution_count": 37,
   "metadata": {},
   "outputs": [],
   "source": [
    "# 2. Automate the process and edit the code to get the details of all books belonging to the Travel and Nonfiction categories.\n",
    "def main():\n",
    "    BASE_URL = \"https://books.toscrape.com/\"\n",
    "    driver = initialize_driver()\n",
    "    category_urls = get_category_detail_urls(driver,BASE_URL)\n",
    "    data= []\n",
    "    for cat_url in category_urls:\n",
    "        book_urls = get_book_urls(driver,cat_url)\n",
    "        for book_url in book_urls:\n",
    "            book_data = get_book_detail(driver,book_url)\n",
    "            book_data[\"cat_url\"] = cat_url\n",
    "            data.append(book_data)\n",
    "\n",
    "    len(data)\n",
    "\n",
    "\n",
    "    pd.set_option(\"display.max_columns\",None)\n",
    "    pd.set_option(\"display.max_colwidth\",40)\n",
    "    pd.set_option(\"display.width\",2000)\n",
    "    df = pd.DataFrame(data)\n",
    "\n",
    "    return df\n",
    "\n",
    "df = main()\n"
   ]
  },
  {
   "cell_type": "code",
   "execution_count": 38,
   "metadata": {},
   "outputs": [
    {
     "data": {
      "text/html": [
       "<div>\n",
       "<style scoped>\n",
       "    .dataframe tbody tr th:only-of-type {\n",
       "        vertical-align: middle;\n",
       "    }\n",
       "\n",
       "    .dataframe tbody tr th {\n",
       "        vertical-align: top;\n",
       "    }\n",
       "\n",
       "    .dataframe thead th {\n",
       "        text-align: right;\n",
       "    }\n",
       "</style>\n",
       "<table border=\"1\" class=\"dataframe\">\n",
       "  <thead>\n",
       "    <tr style=\"text-align: right;\">\n",
       "      <th></th>\n",
       "      <th>book_name</th>\n",
       "      <th>book_price</th>\n",
       "      <th>book_star_count</th>\n",
       "      <th>book_desc</th>\n",
       "      <th>UPC</th>\n",
       "      <th>Product Type</th>\n",
       "      <th>Price (excl. tax)</th>\n",
       "      <th>Price (incl. tax)</th>\n",
       "      <th>Tax</th>\n",
       "      <th>Availability</th>\n",
       "      <th>Number of reviews</th>\n",
       "      <th>cat_url</th>\n",
       "    </tr>\n",
       "  </thead>\n",
       "  <tbody>\n",
       "    <tr>\n",
       "      <th>0</th>\n",
       "      <td>It's Only the Himalayas</td>\n",
       "      <td>£45.17</td>\n",
       "      <td>Two</td>\n",
       "      <td>“Wherever you go, whatever you do, j...</td>\n",
       "      <td>a22124811bfa8350</td>\n",
       "      <td>Books</td>\n",
       "      <td>£45.17</td>\n",
       "      <td>£45.17</td>\n",
       "      <td>£0.00</td>\n",
       "      <td>In stock (19 available)</td>\n",
       "      <td>0</td>\n",
       "      <td>https://books.toscrape.com/catalogue...</td>\n",
       "    </tr>\n",
       "    <tr>\n",
       "      <th>1</th>\n",
       "      <td>Full Moon over Noah’s Ark: An Odysse...</td>\n",
       "      <td>£49.43</td>\n",
       "      <td>Four</td>\n",
       "      <td>Acclaimed travel writer Rick Antonso...</td>\n",
       "      <td>ce60436f52c5ee68</td>\n",
       "      <td>Books</td>\n",
       "      <td>£49.43</td>\n",
       "      <td>£49.43</td>\n",
       "      <td>£0.00</td>\n",
       "      <td>In stock (15 available)</td>\n",
       "      <td>0</td>\n",
       "      <td>https://books.toscrape.com/catalogue...</td>\n",
       "    </tr>\n",
       "    <tr>\n",
       "      <th>2</th>\n",
       "      <td>See America: A Celebration of Our Na...</td>\n",
       "      <td>£48.87</td>\n",
       "      <td>Three</td>\n",
       "      <td>To coincide with the 2016 centennial...</td>\n",
       "      <td>f9705c362f070608</td>\n",
       "      <td>Books</td>\n",
       "      <td>£48.87</td>\n",
       "      <td>£48.87</td>\n",
       "      <td>£0.00</td>\n",
       "      <td>In stock (14 available)</td>\n",
       "      <td>0</td>\n",
       "      <td>https://books.toscrape.com/catalogue...</td>\n",
       "    </tr>\n",
       "    <tr>\n",
       "      <th>3</th>\n",
       "      <td>Vagabonding: An Uncommon Guide to th...</td>\n",
       "      <td>£36.94</td>\n",
       "      <td>Two</td>\n",
       "      <td>With a new foreword by Tim Ferriss •...</td>\n",
       "      <td>1809259a5a5f1d8d</td>\n",
       "      <td>Books</td>\n",
       "      <td>£36.94</td>\n",
       "      <td>£36.94</td>\n",
       "      <td>£0.00</td>\n",
       "      <td>In stock (8 available)</td>\n",
       "      <td>0</td>\n",
       "      <td>https://books.toscrape.com/catalogue...</td>\n",
       "    </tr>\n",
       "    <tr>\n",
       "      <th>4</th>\n",
       "      <td>Under the Tuscan Sun</td>\n",
       "      <td>£37.33</td>\n",
       "      <td>Three</td>\n",
       "      <td>A CLASSIC FROM THE BESTSELLING AUTHO...</td>\n",
       "      <td>a94350ee74deaa07</td>\n",
       "      <td>Books</td>\n",
       "      <td>£37.33</td>\n",
       "      <td>£37.33</td>\n",
       "      <td>£0.00</td>\n",
       "      <td>In stock (7 available)</td>\n",
       "      <td>0</td>\n",
       "      <td>https://books.toscrape.com/catalogue...</td>\n",
       "    </tr>\n",
       "    <tr>\n",
       "      <th>...</th>\n",
       "      <td>...</td>\n",
       "      <td>...</td>\n",
       "      <td>...</td>\n",
       "      <td>...</td>\n",
       "      <td>...</td>\n",
       "      <td>...</td>\n",
       "      <td>...</td>\n",
       "      <td>...</td>\n",
       "      <td>...</td>\n",
       "      <td>...</td>\n",
       "      <td>...</td>\n",
       "      <td>...</td>\n",
       "    </tr>\n",
       "    <tr>\n",
       "      <th>116</th>\n",
       "      <td>H is for Hawk</td>\n",
       "      <td>£57.42</td>\n",
       "      <td>Five</td>\n",
       "      <td>When Helen Macdonald's father died s...</td>\n",
       "      <td>b6d3f4f4ee1f6069</td>\n",
       "      <td>Books</td>\n",
       "      <td>£57.42</td>\n",
       "      <td>£57.42</td>\n",
       "      <td>£0.00</td>\n",
       "      <td>In stock (2 available)</td>\n",
       "      <td>0</td>\n",
       "      <td>https://books.toscrape.com/catalogue...</td>\n",
       "    </tr>\n",
       "    <tr>\n",
       "      <th>117</th>\n",
       "      <td>Travels with Charley: In Search of A...</td>\n",
       "      <td>£57.82</td>\n",
       "      <td>Five</td>\n",
       "      <td>An intimate journey across and in se...</td>\n",
       "      <td>0268f149d014b389</td>\n",
       "      <td>Books</td>\n",
       "      <td>£57.82</td>\n",
       "      <td>£57.82</td>\n",
       "      <td>£0.00</td>\n",
       "      <td>In stock (1 available)</td>\n",
       "      <td>0</td>\n",
       "      <td>https://books.toscrape.com/catalogue...</td>\n",
       "    </tr>\n",
       "    <tr>\n",
       "      <th>118</th>\n",
       "      <td>The Tumor</td>\n",
       "      <td>£41.56</td>\n",
       "      <td>Five</td>\n",
       "      <td>John Grisham says THE TUMOR is the m...</td>\n",
       "      <td>6514add13c82b115</td>\n",
       "      <td>Books</td>\n",
       "      <td>£41.56</td>\n",
       "      <td>£41.56</td>\n",
       "      <td>£0.00</td>\n",
       "      <td>In stock (1 available)</td>\n",
       "      <td>0</td>\n",
       "      <td>https://books.toscrape.com/catalogue...</td>\n",
       "    </tr>\n",
       "    <tr>\n",
       "      <th>119</th>\n",
       "      <td>The End of the Jesus Era (An Investi...</td>\n",
       "      <td>£14.40</td>\n",
       "      <td>One</td>\n",
       "      <td>God exists!? This may seem unprovabl...</td>\n",
       "      <td>09659d1639a1f978</td>\n",
       "      <td>Books</td>\n",
       "      <td>£14.40</td>\n",
       "      <td>£14.40</td>\n",
       "      <td>£0.00</td>\n",
       "      <td>In stock (1 available)</td>\n",
       "      <td>0</td>\n",
       "      <td>https://books.toscrape.com/catalogue...</td>\n",
       "    </tr>\n",
       "    <tr>\n",
       "      <th>120</th>\n",
       "      <td>Eat, Pray, Love</td>\n",
       "      <td>£51.32</td>\n",
       "      <td>Three</td>\n",
       "      <td>In her early thirties, Elizabeth Gil...</td>\n",
       "      <td>df56868afd166557</td>\n",
       "      <td>Books</td>\n",
       "      <td>£51.32</td>\n",
       "      <td>£51.32</td>\n",
       "      <td>£0.00</td>\n",
       "      <td>In stock (1 available)</td>\n",
       "      <td>0</td>\n",
       "      <td>https://books.toscrape.com/catalogue...</td>\n",
       "    </tr>\n",
       "  </tbody>\n",
       "</table>\n",
       "<p>121 rows × 12 columns</p>\n",
       "</div>"
      ],
      "text/plain": [
       "                                   book_name book_price book_star_count                                book_desc               UPC Product Type Price (excl. tax) Price (incl. tax)    Tax             Availability Number of reviews                                  cat_url\n",
       "0                    It's Only the Himalayas     £45.17             Two  “Wherever you go, whatever you do, j...  a22124811bfa8350        Books            £45.17            £45.17  £0.00  In stock (19 available)                 0  https://books.toscrape.com/catalogue...\n",
       "1    Full Moon over Noah’s Ark: An Odysse...     £49.43            Four  Acclaimed travel writer Rick Antonso...  ce60436f52c5ee68        Books            £49.43            £49.43  £0.00  In stock (15 available)                 0  https://books.toscrape.com/catalogue...\n",
       "2    See America: A Celebration of Our Na...     £48.87           Three  To coincide with the 2016 centennial...  f9705c362f070608        Books            £48.87            £48.87  £0.00  In stock (14 available)                 0  https://books.toscrape.com/catalogue...\n",
       "3    Vagabonding: An Uncommon Guide to th...     £36.94             Two  With a new foreword by Tim Ferriss •...  1809259a5a5f1d8d        Books            £36.94            £36.94  £0.00   In stock (8 available)                 0  https://books.toscrape.com/catalogue...\n",
       "4                       Under the Tuscan Sun     £37.33           Three  A CLASSIC FROM THE BESTSELLING AUTHO...  a94350ee74deaa07        Books            £37.33            £37.33  £0.00   In stock (7 available)                 0  https://books.toscrape.com/catalogue...\n",
       "..                                       ...        ...             ...                                      ...               ...          ...               ...               ...    ...                      ...               ...                                      ...\n",
       "116                            H is for Hawk     £57.42            Five  When Helen Macdonald's father died s...  b6d3f4f4ee1f6069        Books            £57.42            £57.42  £0.00   In stock (2 available)                 0  https://books.toscrape.com/catalogue...\n",
       "117  Travels with Charley: In Search of A...     £57.82            Five  An intimate journey across and in se...  0268f149d014b389        Books            £57.82            £57.82  £0.00   In stock (1 available)                 0  https://books.toscrape.com/catalogue...\n",
       "118                                The Tumor     £41.56            Five  John Grisham says THE TUMOR is the m...  6514add13c82b115        Books            £41.56            £41.56  £0.00   In stock (1 available)                 0  https://books.toscrape.com/catalogue...\n",
       "119  The End of the Jesus Era (An Investi...     £14.40             One  God exists!? This may seem unprovabl...  09659d1639a1f978        Books            £14.40            £14.40  £0.00   In stock (1 available)                 0  https://books.toscrape.com/catalogue...\n",
       "120                          Eat, Pray, Love     £51.32           Three  In her early thirties, Elizabeth Gil...  df56868afd166557        Books            £51.32            £51.32  £0.00   In stock (1 available)                 0  https://books.toscrape.com/catalogue...\n",
       "\n",
       "[121 rows x 12 columns]"
      ]
     },
     "execution_count": 38,
     "metadata": {},
     "output_type": "execute_result"
    }
   ],
   "source": [
    "df"
   ]
  },
  {
   "cell_type": "code",
   "execution_count": 40,
   "metadata": {},
   "outputs": [
    {
     "data": {
      "text/plain": [
       "(121, 12)"
      ]
     },
     "execution_count": 40,
     "metadata": {},
     "output_type": "execute_result"
    }
   ],
   "source": [
    "df.shape"
   ]
  },
  {
   "cell_type": "code",
   "execution_count": 42,
   "metadata": {},
   "outputs": [],
   "source": [
    "#save data\n",
    "df.to_csv(r\"books.csv\",index=False)"
   ]
  }
 ],
 "metadata": {
  "kernelspec": {
   "display_name": "Python 3",
   "language": "python",
   "name": "python3"
  },
  "language_info": {
   "codemirror_mode": {
    "name": "ipython",
    "version": 3
   },
   "file_extension": ".py",
   "mimetype": "text/x-python",
   "name": "python",
   "nbconvert_exporter": "python",
   "pygments_lexer": "ipython3",
   "version": "3.11.9"
  }
 },
 "nbformat": 4,
 "nbformat_minor": 2
}
